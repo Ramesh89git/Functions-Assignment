{
  "nbformat": 4,
  "nbformat_minor": 0,
  "metadata": {
    "colab": {
      "provenance": []
    },
    "kernelspec": {
      "name": "python3",
      "display_name": "Python 3"
    },
    "language_info": {
      "name": "python"
    }
  },
  "cells": [
    {
      "cell_type": "markdown",
      "source": [
        "1. **Write a Python function that takes a list of numbers as input and returns the sum of all even numbers in\n",
        "the list.**"
      ],
      "metadata": {
        "id": "4nRKiy7GhpXt"
      }
    },
    {
      "cell_type": "code",
      "execution_count": 1,
      "metadata": {
        "colab": {
          "base_uri": "https://localhost:8080/"
        },
        "id": "fad3JwXjhIJV",
        "outputId": "805965cb-8bab-4f9e-f3f3-f123312523dc"
      },
      "outputs": [
        {
          "output_type": "stream",
          "name": "stdout",
          "text": [
            "30\n"
          ]
        }
      ],
      "source": [
        "def sum_even_numbers(numbers):\n",
        "    \"\"\"Returns the sum of all even numbers in the given list.\"\"\"\n",
        "    return sum(num for num in numbers if num % 2 == 0)\n",
        "\n",
        "# Example usage:\n",
        "numbers_list = [1, 2, 3, 4, 5, 6, 7, 8, 9, 10]\n",
        "print(sum_even_numbers(numbers_list))  # Output: 30\n"
      ]
    },
    {
      "cell_type": "markdown",
      "source": [
        "2. **Create a Python function that accepts a string and returns the reverse of that string.**"
      ],
      "metadata": {
        "id": "UmN3UfmojKvb"
      }
    },
    {
      "cell_type": "code",
      "source": [
        "def reverse_string(s):\n",
        "    \"\"\"Returns the reverse of the given string.\"\"\"\n",
        "    return s[::-1]\n",
        "\n",
        "# Example usage:\n",
        "text = \"Hello, World!\"\n",
        "print(reverse_string(text))  # Output: \"!dlroW ,olleH\"\n"
      ],
      "metadata": {
        "colab": {
          "base_uri": "https://localhost:8080/"
        },
        "id": "YVT5oGcEjRPC",
        "outputId": "a8663847-946f-438e-8039-3b961766b38b"
      },
      "execution_count": 2,
      "outputs": [
        {
          "output_type": "stream",
          "name": "stdout",
          "text": [
            "!dlroW ,olleH\n"
          ]
        }
      ]
    },
    {
      "cell_type": "markdown",
      "source": [
        "3. **Implement a Python function that takes a list of integers and returns a new list containing the squares of\n",
        "each number**"
      ],
      "metadata": {
        "id": "PJjzhniQjl9y"
      }
    },
    {
      "cell_type": "code",
      "source": [
        "def square_numbers(numbers):\n",
        "    \"\"\"Returns a list containing the squares of each number in the given list.\"\"\"\n",
        "    return [num ** 2 for num in numbers]\n",
        "\n",
        "# Example usage:\n",
        "numbers_list = [1, 2, 3, 4, 5]\n",
        "print(square_numbers(numbers_list))  # Output: [1, 4, 9, 16, 25]"
      ],
      "metadata": {
        "colab": {
          "base_uri": "https://localhost:8080/"
        },
        "id": "3EvZ2AnqjtaR",
        "outputId": "5fed2897-5c88-4d19-83fb-02a491c05df2"
      },
      "execution_count": 3,
      "outputs": [
        {
          "output_type": "stream",
          "name": "stdout",
          "text": [
            "[1, 4, 9, 16, 25]\n"
          ]
        }
      ]
    },
    {
      "cell_type": "markdown",
      "source": [
        "4. **Write a Python function that checks if a given number is prime or not from 1 to 200**"
      ],
      "metadata": {
        "id": "otPXmwuGkHsp"
      }
    },
    {
      "cell_type": "code",
      "source": [
        "def is_prime(n):\n",
        "    \"\"\"Checks if a number is prime (valid for numbers from 1 to 200).\"\"\"\n",
        "    if n < 2:\n",
        "        return False\n",
        "    for i in range(2, int(n ** 0.5) + 1):\n",
        "        if n % i == 0:\n",
        "            return False\n",
        "    return True\n",
        "\n",
        "# Example usage:\n",
        "for num in range(1, 201):\n",
        "    if is_prime(num):\n",
        "        print(num, \"is prime\")\n",
        "\n",
        "#How It Works:\n",
        "#If n < 2, it's not prime.\n",
        "\n",
        "#It checks divisibility from 2 to √n (square root of n) for efficiency.\n",
        "\n",
        "#If n is divisible by any number in that range, it's not prime."
      ],
      "metadata": {
        "colab": {
          "base_uri": "https://localhost:8080/"
        },
        "id": "NjXURJWGkOiR",
        "outputId": "8371de3a-d167-4701-8988-ff8dcff052fa"
      },
      "execution_count": 5,
      "outputs": [
        {
          "output_type": "stream",
          "name": "stdout",
          "text": [
            "2 is prime\n",
            "3 is prime\n",
            "5 is prime\n",
            "7 is prime\n",
            "11 is prime\n",
            "13 is prime\n",
            "17 is prime\n",
            "19 is prime\n",
            "23 is prime\n",
            "29 is prime\n",
            "31 is prime\n",
            "37 is prime\n",
            "41 is prime\n",
            "43 is prime\n",
            "47 is prime\n",
            "53 is prime\n",
            "59 is prime\n",
            "61 is prime\n",
            "67 is prime\n",
            "71 is prime\n",
            "73 is prime\n",
            "79 is prime\n",
            "83 is prime\n",
            "89 is prime\n",
            "97 is prime\n",
            "101 is prime\n",
            "103 is prime\n",
            "107 is prime\n",
            "109 is prime\n",
            "113 is prime\n",
            "127 is prime\n",
            "131 is prime\n",
            "137 is prime\n",
            "139 is prime\n",
            "149 is prime\n",
            "151 is prime\n",
            "157 is prime\n",
            "163 is prime\n",
            "167 is prime\n",
            "173 is prime\n",
            "179 is prime\n",
            "181 is prime\n",
            "191 is prime\n",
            "193 is prime\n",
            "197 is prime\n",
            "199 is prime\n"
          ]
        }
      ]
    },
    {
      "cell_type": "markdown",
      "source": [
        "50 **Create an iterator class in Python that generates the Fibonacci sequence up to a specified number of\n",
        "terms.**"
      ],
      "metadata": {
        "id": "7bGyN4vXkjsD"
      }
    },
    {
      "cell_type": "code",
      "source": [
        "class FibonacciIterator:\n",
        "    \"\"\"Iterator class for generating the Fibonacci sequence up to a given number of terms.\"\"\"\n",
        "\n",
        "    def __init__(self, n_terms):\n",
        "        self.n_terms = n_terms  # Number of terms to generate\n",
        "        self.count = 0\n",
        "        self.a, self.b = 0, 1  # Initial Fibonacci values\n",
        "\n",
        "    def __iter__(self):\n",
        "        return self  # The class itself is the iterator\n",
        "\n",
        "    def __next__(self):\n",
        "        if self.count >= self.n_terms:\n",
        "            raise StopIteration  # Stop when the limit is reached\n",
        "\n",
        "        # Generate the next Fibonacci number\n",
        "        fib = self.a\n",
        "        self.a, self.b = self.b, self.a + self.b  # Move to the next pair\n",
        "        self.count += 1\n",
        "        return fib\n",
        "\n",
        "# Example usage:\n",
        "fib_iterator = FibonacciIterator(10)\n",
        "for num in fib_iterator:\n",
        "    print(num, end=\" \")  # Output: 0 1 1 2 3 5 8 13 21 34\n"
      ],
      "metadata": {
        "colab": {
          "base_uri": "https://localhost:8080/"
        },
        "id": "qvB0C389lvUK",
        "outputId": "6af71947-40fd-4032-d400-11c0b751ec70"
      },
      "execution_count": 6,
      "outputs": [
        {
          "output_type": "stream",
          "name": "stdout",
          "text": [
            "0 1 1 2 3 5 8 13 21 34 "
          ]
        }
      ]
    },
    {
      "cell_type": "markdown",
      "source": [
        "6. **Write a generator function in Python that yields the powers of 2 up to a given exponent.**"
      ],
      "metadata": {
        "id": "3U5JdgmZmIGD"
      }
    },
    {
      "cell_type": "code",
      "source": [
        "def powers_of_two(max_exponent):\n",
        "    \"\"\"Yields powers of 2 from 2^0 up to 2^max_exponent.\"\"\"\n",
        "    for exponent in range(max_exponent + 1):\n",
        "        yield 2 ** exponent\n",
        "\n",
        "# Example usage:\n",
        "for power in powers_of_two(5):\n",
        "    print(power, end=\" \")  # Output: 1 2 4 8 16 32"
      ],
      "metadata": {
        "colab": {
          "base_uri": "https://localhost:8080/"
        },
        "id": "cweLpQ0jmOsp",
        "outputId": "e1a1f51b-2b08-41d7-d9b4-81d7faeb6998"
      },
      "execution_count": 9,
      "outputs": [
        {
          "output_type": "stream",
          "name": "stdout",
          "text": [
            "1 2 4 8 16 32 "
          ]
        }
      ]
    },
    {
      "cell_type": "markdown",
      "source": [
        "7. **Implement a generator function that reads a file line by line and yields each line as a string.**"
      ],
      "metadata": {
        "id": "kccT7Dcgm-Ej"
      }
    },
    {
      "cell_type": "code",
      "source": [
        "def read_file_line_by_line(file_path):\n",
        "    \"\"\"Yields each line from a file as a string.\"\"\"\n",
        "    with open(file_path, \"r\", encoding=\"utf-8\") as file:\n",
        "        for line in file:\n",
        "            yield line.strip()  # Remove leading/trailing whitespace\n",
        "\n",
        "# Example usage:\n",
        "# Assuming 'example.txt' exists\n",
        "for line in read_file_line_by_line(\"example.txt\"):\n",
        "    print(line)  # Prints each line from the file\n"
      ],
      "metadata": {
        "id": "AUZ6aKZGnFoZ"
      },
      "execution_count": null,
      "outputs": []
    },
    {
      "cell_type": "markdown",
      "source": [
        "**How It Works:**\n",
        "\n",
        "Opens the file in read mode (\"r\") with UTF-8 encoding.\n",
        "\n",
        "Iterates over the file object, reading it line by line.\n",
        "\n",
        "yield returns each line without loading the entire file into memory.\n",
        "\n",
        ".strip() removes unwanted whitespace or newline characters."
      ],
      "metadata": {
        "id": "VWlQrplhnTR4"
      }
    },
    {
      "cell_type": "markdown",
      "source": [
        "8. **Use a lambda function in Python to sort a list of tuples based on the second element of each tuple.**\n",
        "  \n",
        "  -You can use a lambda function with the sorted() function to sort a list of tuples based on the second element of each tuple"
      ],
      "metadata": {
        "id": "Z7WEl1CtnaS5"
      }
    },
    {
      "cell_type": "code",
      "source": [
        "# Sample list of tuples\n",
        "tuples_list = [(1, 5), (3, 2), (7, 8), (2, 3), (5, 1)]\n",
        "\n",
        "# Sorting based on the second element of each tuple\n",
        "sorted_list = sorted(tuples_list, key=lambda x: x[1])\n",
        "\n",
        "# Output the sorted list\n",
        "print(sorted_list)  # Output: [(5, 1), (3, 2), (2, 3), (1, 5), (7, 8)]\n"
      ],
      "metadata": {
        "colab": {
          "base_uri": "https://localhost:8080/"
        },
        "id": "iK5LvuspoGPa",
        "outputId": "92131baa-6d79-4143-d580-a9e688dd9cf1"
      },
      "execution_count": 10,
      "outputs": [
        {
          "output_type": "stream",
          "name": "stdout",
          "text": [
            "[(5, 1), (3, 2), (2, 3), (1, 5), (7, 8)]\n"
          ]
        }
      ]
    },
    {
      "cell_type": "markdown",
      "source": [
        "9. **Write a Python program that uses `map()` to convert a list of temperatures from Celsius to Fahrenheit.**"
      ],
      "metadata": {
        "id": "nV__dnDCpS6R"
      }
    },
    {
      "cell_type": "code",
      "source": [
        "# Function to convert Celsius to Fahrenheit\n",
        "def celsius_to_fahrenheit(celsius):\n",
        "    return (celsius * 9/5) + 32\n",
        "\n",
        "# List of temperatures in Celsius\n",
        "celsius_temperatures = [0, 10, 20, 30, 40, 100]\n",
        "\n",
        "# Using map() to convert to Fahrenheit\n",
        "fahrenheit_temperatures = list(map(celsius_to_fahrenheit, celsius_temperatures))\n",
        "\n",
        "# Output the converted temperatures\n",
        "print(fahrenheit_temperatures)  # Output: [32.0, 50.0, 68.0, 86.0, 104.0, 212.0]\n"
      ],
      "metadata": {
        "colab": {
          "base_uri": "https://localhost:8080/"
        },
        "id": "b8_jU1xIpYj5",
        "outputId": "04b9f58c-79ad-441d-c427-71d7aec57b67"
      },
      "execution_count": 11,
      "outputs": [
        {
          "output_type": "stream",
          "name": "stdout",
          "text": [
            "[32.0, 50.0, 68.0, 86.0, 104.0, 212.0]\n"
          ]
        }
      ]
    },
    {
      "cell_type": "markdown",
      "source": [
        "10. **Create a Python program that uses `filter()` to remove all the vowels from a given string.**"
      ],
      "metadata": {
        "id": "Dp7F9lrPpvgC"
      }
    },
    {
      "cell_type": "code",
      "source": [
        "def remove_vowels(string):\n",
        "    \"\"\"Removes all vowels from the given string.\"\"\"\n",
        "    vowels = \"aeiouAEIOU\"\n",
        "    return \"\".join(filter(lambda char: char not in vowels, string))\n",
        "\n",
        "# Example usage:\n",
        "text = \"Hello, World!\"\n",
        "result = remove_vowels(text)\n",
        "print(result)  # Output: \"Hll, Wrld!\"\n"
      ],
      "metadata": {
        "colab": {
          "base_uri": "https://localhost:8080/"
        },
        "id": "j3E_sVKyqKVy",
        "outputId": "bd9f3f2c-443f-4c8a-b4cd-857b346b892c"
      },
      "execution_count": 12,
      "outputs": [
        {
          "output_type": "stream",
          "name": "stdout",
          "text": [
            "Hll, Wrld!\n"
          ]
        }
      ]
    },
    {
      "cell_type": "markdown",
      "source": [
        "11. **Imagine an accounting routine used in a book shop. It works on a list with sublists, which look like this:**\n",
        "\n",
        "  Write a Python program, which returns a list with 2-tuples. Each tuple consists of the order number and theproduct of the price per item and the quantity. The product should be increased by 10,- € if the value of the\n",
        "order is smaller than 100,00 €."
      ],
      "metadata": {
        "id": "6NHGTHf4qPkY"
      }
    },
    {
      "cell_type": "code",
      "source": [
        "orders = [\n",
        "    (\"34587\", \"Learning Python, Mark Lutz\", 4, 40.95),\n",
        "    (\"98762\", \"Programming Python, Mark Lutz\", 5, 56.80),\n",
        "    (\"77226\", \"Head First Python\", 3, 32.95),\n",
        "    (\"88112\", \"Einführung in Python3\", 3, 24.99)\n",
        "]\n",
        "\n",
        "def calculate_order_summary(orders):\n",
        "  \"\"\"\n",
        "  Calculates the order summary for a list of orders.\n",
        "\n",
        "  Args:\n",
        "    orders: A list of tuples, where each tuple represents an order\n",
        "            in the format (order_number, book_title, quantity, price_per_item).\n",
        "\n",
        "  Returns:\n",
        "    A list of tuples, where each tuple contains the order number and\n",
        "    the calculated order total (including the extra 10 if applicable).\n",
        "  \"\"\"\n",
        "  order_summary = []\n",
        "  for order in orders:\n",
        "    order_number, _, quantity, price_per_item = order\n",
        "    total_price = quantity * price_per_item\n",
        "    if total_price < 100:\n",
        "      total_price += 10\n",
        "    order_summary.append((order_number, total_price))\n",
        "  return order_summary\n",
        "\n",
        "result = calculate_order_summary(orders)\n",
        "print(result)"
      ],
      "metadata": {
        "colab": {
          "base_uri": "https://localhost:8080/"
        },
        "id": "cm79pPyDql2g",
        "outputId": "a449e308-bc63-4dd1-d909-a3d9d0fc2978"
      },
      "execution_count": 13,
      "outputs": [
        {
          "output_type": "stream",
          "name": "stdout",
          "text": [
            "[('34587', 163.8), ('98762', 284.0), ('77226', 108.85000000000001), ('88112', 84.97)]\n"
          ]
        }
      ]
    }
  ]
}